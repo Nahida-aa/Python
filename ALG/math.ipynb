{
 "cells": [
  {
   "cell_type": "code",
   "execution_count": 5,
   "metadata": {},
   "outputs": [
    {
     "name": "stdout",
     "output_type": "stream",
     "text": [
      "0 2 2 5\n"
     ]
    }
   ],
   "source": [
    "x = 25\n",
    "pop = x % 10\n",
    "x1 = x // 10\n",
    "pop2 = x1 % 10\n",
    "x2 = x1 // 10\n",
    "print(x2, pop2, x1, pop)"
   ]
  },
  {
   "cell_type": "markdown",
   "metadata": {},
   "source": [
    "给你一个 32 位的有符号整数 x ，返回将 x 中的数字部分反转后的结果。\n",
    "\n",
    "如果反转后整数超过 32 位的有符号整数的范围 [−231,  231 − 1] ，就返回 0。\n",
    "\n",
    "假设环境不允许存储 64 位整数（有符号或无符号）。\n",
    " \n",
    "\n",
    "示例 1：\n",
    "\n",
    "输入：x = 123\n",
    "输出：321\n",
    "示例 2：\n",
    "\n",
    "输入：x = -123\n",
    "输出：-321\n",
    "示例 3：\n",
    "\n",
    "输入：x = 120\n",
    "输出：21\n",
    "示例 4：\n",
    "\n",
    "输入：x = 0\n",
    "输出：0\n",
    " \n",
    "\n",
    "提示：\n",
    "\n",
    "-231 <= x <= 231 - 1"
   ]
  },
  {
   "cell_type": "markdown",
   "metadata": {},
   "source": [
    "要解决这个问题，我们需要反转整数的数字部分，并确保结果在 32 位有符号整数的范围内。如果超出范围，则返回 0。\n",
    "\n",
    "### 步骤\n",
    "\n",
    "1. **处理符号**：首先判断输入整数的符号。如果是负数，记录符号并将其转换为正数处理。\n",
    "2. **反转数字**：通过取模和整除操作逐位反转数字。\n",
    "3. **检查溢出**：在每次添加新数字之前，检查是否会导致溢出。\n",
    "4. **恢复符号**：如果原始数字是负数，最后将结果转换为负数。\n",
    "\n",
    "### 代码实现\n",
    "\n",
    "以下是 Python 的实现代码：\n",
    "\n",
    "```python\n",
    "def reverse(x):\n",
    "    INT_MAX = 2**31 - 1\n",
    "    INT_MIN = -2**31\n",
    "\n",
    "    result = 0\n",
    "    sign = -1 if x < 0 else 1\n",
    "    x = abs(x)\n",
    "\n",
    "    while x != 0:\n",
    "        pop = x % 10\n",
    "        x //= 10\n",
    "\n",
    "        # 检查是否会溢出\n",
    "        if result > (INT_MAX - pop) // 10:\n",
    "            return 0\n",
    "\n",
    "        result = result * 10 + pop\n",
    "\n",
    "    return sign * result\n",
    "\n",
    "# 测试\n",
    "print(reverse(123))   # 输出: 321\n",
    "print(reverse(-123))  # 输出: -321\n",
    "print(reverse(120))   # 输出: 21\n",
    "print(reverse(0))     # 输出: 0\n",
    "```\n",
    "\n",
    "### 解释\n",
    "\n",
    "1. **处理符号**：\n",
    "   - `sign = -1 if x < 0 else 1`：记录符号。\n",
    "   - `x = abs(x)`：将 `x` 转换为正数。\n",
    "\n",
    "2. **反转数字**：\n",
    "   - 使用 `while x != 0` 循环逐位处理 `x`。\n",
    "   - `pop = x % 10`：取出最后一位数字。\n",
    "   - `x //= 10`：去掉最后一位数字。\n",
    "   - `result = result * 10 + pop`：将取出的数字添加到结果中。\n",
    "\n",
    "3. **检查溢出**：\n",
    "   - `if result > (INT_MAX - pop) // 10`：在每次添加新数字之前，检查是否会导致溢出。如果会溢出，返回 0。\n",
    "\n",
    "4. **恢复符号**：\n",
    "   - `return sign * result`：根据原始数字的符号返回结果。\n",
    "\n",
    "这种方法确保了在反转过程中不会超出 32 位有符号整数的范围，并且不使用 64 位整数。"
   ]
  },
  {
   "cell_type": "code",
   "execution_count": 4,
   "metadata": {},
   "outputs": [
    {
     "name": "stdout",
     "output_type": "stream",
     "text": [
      "321\n",
      "-321\n",
      "21\n",
      "0\n"
     ]
    }
   ],
   "source": [
    "def reverse(x):\n",
    "    INT_MAX = 2**31 - 1\n",
    "    INT_MIN = -2**31\n",
    "\n",
    "    result = 0\n",
    "    sign = -1 if x < 0 else 1\n",
    "    x = abs(x)\n",
    "\n",
    "    while x != 0:\n",
    "        pop = x % 10\n",
    "        x //= 10\n",
    "\n",
    "        # 检查是否会溢出\n",
    "        if result > (INT_MAX - pop) // 10:\n",
    "            return 0\n",
    "\n",
    "        result = result * 10 + pop\n",
    "\n",
    "    return sign * result\n",
    "\n",
    "# 测试\n",
    "print(reverse(123))   # 输出: 321\n",
    "print(reverse(-123))  # 输出: -321\n",
    "print(reverse(120))   # 输出: 21\n",
    "print(reverse(0))     # 输出: 0"
   ]
  },
  {
   "cell_type": "code",
   "execution_count": 10,
   "metadata": {},
   "outputs": [
    {
     "data": {
      "text/plain": [
       "122"
      ]
     },
     "execution_count": 10,
     "metadata": {},
     "output_type": "execute_result"
    }
   ],
   "source": [
    "1221 % 10\n",
    "1221 // 10"
   ]
  },
  {
   "cell_type": "code",
   "execution_count": 16,
   "metadata": {},
   "outputs": [
    {
     "name": "stdout",
     "output_type": "stream",
     "text": [
      "y:1\n",
      "x:12\n",
      "y:12\n",
      "x:1\n",
      "True\n",
      "False\n",
      "False\n"
     ]
    }
   ],
   "source": [
    "class Solution:\n",
    "    def isPalindrome1(self, x: int) -> bool:\n",
    "        if x<0 or (x%10==0 and x!=0):\n",
    "            return False\n",
    "        x_ = x\n",
    "        x_new = 0\n",
    "        while x!=0:\n",
    "            x_new = x_new * 10 + x % 10\n",
    "            x //= 10\n",
    "        return x_ == x_new\n",
    "    \n",
    "    def isPalindrome2(self, x: int) -> bool:\n",
    "        if x<0 or (x%10==0 and x!=0):\n",
    "            return False\n",
    "        y = 0\n",
    "        while x>y:\n",
    "            y = y*10 + x%10\n",
    "            print(f'y:{y}')\n",
    "            x //= 10\n",
    "            print(f'x:{x}')\n",
    "        return x == y or x == y//10\n",
    "    \n",
    "    def isPalindrome(self, x: int) -> bool:\n",
    "        return self.isPalindrome2(x)\n",
    "\n",
    "# 测试\n",
    "s = Solution()\n",
    "print(s.isPalindrome(121))  # 输出: True\n",
    "print(s.isPalindrome(-121)) # 输出: False\n",
    "print(s.isPalindrome(10))   # 输出: False"
   ]
  }
 ],
 "metadata": {
  "kernelspec": {
   "display_name": "ai_310",
   "language": "python",
   "name": "python3"
  },
  "language_info": {
   "codemirror_mode": {
    "name": "ipython",
    "version": 3
   },
   "file_extension": ".py",
   "mimetype": "text/x-python",
   "name": "python",
   "nbconvert_exporter": "python",
   "pygments_lexer": "ipython3",
   "version": "3.10.13"
  }
 },
 "nbformat": 4,
 "nbformat_minor": 2
}
