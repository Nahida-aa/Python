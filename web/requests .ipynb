{
 "cells": [
  {
   "cell_type": "markdown",
   "metadata": {},
   "source": [
    "在使用 `requests` 库进行网络请求时，如果你需要获取来自服务器的原始套接字响应，可以使用 `requests` 库的 `raw` 属性。`raw` 属性返回一个原始的响应对象，该对象是一个类文件对象，可以用于读取原始的套接字响应。\n",
    "\n",
    "以下是一个示例，展示了如何使用 `requests` 库获取来自服务器的原始套接字响应：\n",
    "\n",
    "```python\n",
    "import requests\n",
    "\n",
    "# 发送一个 GET 请求\n",
    "response = requests.get('http://example.com', stream=True)\n",
    "\n",
    "# 获取原始套接字响应\n",
    "raw_response = response.raw\n",
    "\n",
    "# 读取原始响应内容\n",
    "raw_data = raw_response.read()\n",
    "\n",
    "# 打印原始响应内容\n",
    "print(raw_data)\n",
    "```\n",
    "\n",
    "### 解释\n",
    "\n",
    "1. **发送请求**：\n",
    "   - `response = requests.get('http://example.com', stream=True)` 发送一个 GET 请求到指定的 URL。\n",
    "   - `stream=True` 参数表示请求的响应内容将以流的方式下载，这样可以避免将整个响应内容加载到内存中。\n",
    "\n",
    "2. **获取原始套接字响应**：\n",
    "   - `raw_response = response.raw` 获取原始的响应对象。\n",
    "\n",
    "3. **读取原始响应内容**：\n",
    "   - `raw_data = raw_response.read()` 读取原始响应内容。\n",
    "\n",
    "4. **打印原始响应内容**：\n",
    "   - `print(raw_data)` 打印原始响应内容。\n",
    "\n",
    "### 注意事项\n",
    "\n",
    "- 使用 `stream=True` 参数可以避免将整个响应内容加载到内存中，适用于处理大文件或流式数据。\n",
    "- `response.raw` 返回的是一个类文件对象，可以使用标准的文件操作方法（如 `read`、`readline` 等）来读取数据。\n",
    "- 读取原始响应内容时，可能需要根据具体的应用场景进行适当的处理，例如解码或解析数据。\n",
    "\n",
    "通过理解和使用 `requests` 库的 `raw` 属性，你可以更灵活地处理来自服务器的原始套接字响应。"
   ]
  },
  {
   "cell_type": "code",
   "execution_count": null,
   "metadata": {},
   "outputs": [],
   "source": []
  }
 ],
 "metadata": {
  "language_info": {
   "name": "python"
  }
 },
 "nbformat": 4,
 "nbformat_minor": 2
}
