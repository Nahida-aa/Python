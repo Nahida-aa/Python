{
 "cells": [
  {
   "cell_type": "markdown",
   "metadata": {},
   "source": [
    "在 Python 中，lambda 表达式确实可以使用不定长参数。你可以使用 `*args` 和 `**kwargs` 来处理不定长的位置参数和关键字参数。\n",
    "\n",
    "以下是一些示例，展示了如何在 lambda 表达式中使用不定长参数：\n",
    "\n",
    "### 使用 `*args` 处理不定长的位置参数\n",
    "\n",
    "```python\n",
    "# 定义一个 lambda 表达式，接受不定长的位置参数\n",
    "sum_args = lambda *args: sum(args)\n",
    "\n",
    "# 调用 lambda 表达式\n",
    "print(sum_args(1, 2, 3, 4))  # 输出: 10\n",
    "print(sum_args(5, 10))       # 输出: 15\n",
    "```\n",
    "\n",
    "### 使用 `**kwargs` 处理不定长的关键字参数\n",
    "\n",
    "```python\n",
    "# 定义一个 lambda 表达式，接受不定长的关键字参数\n",
    "format_kwargs = lambda **kwargs: ', '.join(f\"{k}={v}\" for k, v in kwargs.items())\n",
    "\n",
    "# 调用 lambda 表达式\n",
    "print(format_kwargs(a=1, b=2, c=3))  # 输出: \"a=1, b=2, c=3\"\n",
    "print(format_kwargs(name=\"Alice\", age=30))  # 输出: \"name=Alice, age=30\"\n",
    "```\n",
    "\n",
    "### 同时使用 `*args` 和 `**kwargs`\n",
    "\n",
    "```python\n",
    "# 定义一个 lambda 表达式，同时接受不定长的位置参数和关键字参数\n",
    "combine_args_kwargs = lambda *args, **kwargs: (args, kwargs)\n",
    "\n",
    "# 调用 lambda 表达式\n",
    "print(combine_args_kwargs(1, 2, 3, a=4, b=5))  # 输出: ((1, 2, 3), {'a': 4, 'b': 5})\n",
    "```\n",
    "\n",
    "这些示例展示了如何在 lambda 表达式中使用不定长参数。通过使用 `*args` 和 `**kwargs`，你可以创建灵活的 lambda 表达式，处理任意数量的位置参数和关键字参数。"
   ]
  },
  {
   "cell_type": "code",
   "execution_count": null,
   "metadata": {},
   "outputs": [],
   "source": []
  }
 ],
 "metadata": {
  "language_info": {
   "name": "python"
  }
 },
 "nbformat": 4,
 "nbformat_minor": 2
}
