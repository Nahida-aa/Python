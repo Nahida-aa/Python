{
 "cells": [
  {
   "cell_type": "markdown",
   "metadata": {},
   "source": [
    "Matplotlib 提供了多种用于标注文字的函数，以下是一些常用的函数：\n",
    "\n",
    "1. `text(x, y, s, **kwargs)`：在指定的坐标位置 (x, y) 添加文本 s。\n",
    "2. `annotate(s, xy, **kwargs)`：在指定的坐标位置 (xy) 添加带有箭头的注释。\n",
    "3. `title(label, **kwargs)`：为图表添加标题。\n",
    "4. `xlabel(label, **kwargs)`：为 x 轴添加标签。\n",
    "5. `ylabel(label, **kwargs)`：为 y 轴添加标签。\n",
    "\n",
    "以下是每个函数的示例：\n",
    "\n",
    "```python\n",
    "import matplotlib.pyplot as plt\n",
    "\n",
    "# 创建一个简单的图表\n",
    "fig, ax = plt.subplots()\n",
    "\n",
    "# 使用 text() 函数添加文字\n",
    "ax.text(0.5, 0.5, 'Center Text', fontsize=12, ha='center')\n",
    "\n",
    "# 使用 annotate() 函数添加带箭头的注释\n",
    "ax.annotate('Annotated Text', xy=(0.5, 0.5), xytext=(0.7, 0.7),\n",
    "            arrowprops=dict(facecolor='black', shrink=0.05))\n",
    "\n",
    "# 使用 title() 函数添加标题\n",
    "ax.set_title('Title of the Plot')\n",
    "\n",
    "# 使用 xlabel() 和 ylabel() 函数添加轴标签\n",
    "ax.set_xlabel('X Axis Label')\n",
    "ax.set_ylabel('Y Axis Label')\n",
    "\n",
    "# 显示图表\n",
    "plt.show()\n",
    "```\n",
    "\n",
    "这些函数可以帮助你在图表中添加各种类型的文字标注，以增强图表的可读性和信息量。"
   ]
  },
  {
   "cell_type": "code",
   "execution_count": null,
   "metadata": {},
   "outputs": [],
   "source": []
  }
 ],
 "metadata": {
  "language_info": {
   "name": "python"
  }
 },
 "nbformat": 4,
 "nbformat_minor": 2
}
