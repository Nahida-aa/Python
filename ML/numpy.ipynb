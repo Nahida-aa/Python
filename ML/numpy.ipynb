{
 "cells": [
  {
   "cell_type": "markdown",
   "metadata": {},
   "source": [
    "# numpy"
   ]
  },
  {
   "cell_type": "markdown",
   "metadata": {},
   "source": [
    "## create"
   ]
  },
  {
   "cell_type": "code",
   "execution_count": 9,
   "metadata": {},
   "outputs": [
    {
     "name": "stdout",
     "output_type": "stream",
     "text": [
      "[1 2 3] (3,)\n",
      "[1 2 3] (3,)\n"
     ]
    }
   ],
   "source": [
    "import numpy as np\n",
    "\n",
    "a = np.array([1, 2, 3])\n",
    "print(a, a.shape)\n",
    "print(a.T, a.T.shape)"
   ]
  },
  {
   "cell_type": "code",
   "execution_count": 28,
   "metadata": {},
   "outputs": [
    {
     "name": "stdout",
     "output_type": "stream",
     "text": [
      "[0 1 2 3 4]\n",
      "[0.   0.25 0.5  0.75 1.  ]\n",
      "[0. 1. 2. 3. 4.]\n"
     ]
    }
   ],
   "source": [
    "a = np.arange(5) # [0 1 2 3 4]\n",
    "print(a)\n",
    "b = np.linspace(0, 1, 5) # [0.   0.25 0.5  0.75 1.  ]\n",
    "print(b)\n",
    "b2a = (5 - 1) * (b - 0) / (1 - 0) + 0\n",
    "print(b2a)"
   ]
  },
  {
   "cell_type": "code",
   "execution_count": 26,
   "metadata": {},
   "outputs": [
    {
     "name": "stdout",
     "output_type": "stream",
     "text": [
      "[[0. 0. 0.]\n",
      " [0. 0. 0.]]\n",
      "[[1. 1. 1.]\n",
      " [1. 1. 1.]]\n"
     ]
    }
   ],
   "source": [
    "c = np.zeros((2, 3))\n",
    "print(c)\n",
    "d = np.ones((2, 3))\n",
    "print(d)"
   ]
  },
  {
   "cell_type": "code",
   "execution_count": 27,
   "metadata": {},
   "outputs": [
    {
     "name": "stdout",
     "output_type": "stream",
     "text": [
      "[[0.32385446 0.89339081 0.15316945]\n",
      " [0.87118496 0.50394242 0.35392605]]\n"
     ]
    }
   ],
   "source": [
    "e = np.random.random((2, 3))\n",
    "print(e)"
   ]
  },
  {
   "cell_type": "markdown",
   "metadata": {},
   "source": [
    "## operation"
   ]
  },
  {
   "cell_type": "code",
   "execution_count": 31,
   "metadata": {},
   "outputs": [
    {
     "name": "stdout",
     "output_type": "stream",
     "text": [
      "[0 1 2 3 4 5]\n",
      "[[0 1 2]\n",
      " [3 4 5]]\n"
     ]
    }
   ],
   "source": [
    "a = np.arange(6)\n",
    "b = a.reshape((2, 3))\n",
    "print(a)\n",
    "print(b)"
   ]
  },
  {
   "cell_type": "code",
   "execution_count": 33,
   "metadata": {},
   "outputs": [
    {
     "name": "stdout",
     "output_type": "stream",
     "text": [
      "[[1 2 3]\n",
      " [4 5 6]\n",
      " [7 8 9]]\n",
      "[[1 2 3]\n",
      " [4 5 6]\n",
      " [7 8 9]]\n"
     ]
    }
   ],
   "source": [
    "a = np.array([[1, 2, 3], \n",
    "              [4, 5, 6]])\n",
    "b = np.array([[7, 8, 9]])\n",
    "c1 = np.concatenate((a, b), axis=0) # dimension 0\n",
    "c2 = np.vstack((a, b)) # vertical\n",
    "print(c1)\n",
    "print(c2)"
   ]
  },
  {
   "cell_type": "code",
   "execution_count": 36,
   "metadata": {},
   "outputs": [
    {
     "name": "stdout",
     "output_type": "stream",
     "text": [
      "[[1]\n",
      " [4]\n",
      " [7]]\n",
      "[[2]\n",
      " [5]\n",
      " [8]]\n",
      "[[3]\n",
      " [6]\n",
      " [9]]\n",
      "[array([[1],\n",
      "       [4],\n",
      "       [7]]), array([[2],\n",
      "       [5],\n",
      "       [8]]), array([[3],\n",
      "       [6],\n",
      "       [9]])]\n"
     ]
    }
   ],
   "source": [
    "a = np.array([[1, 2, 3],\n",
    "              [4, 5, 6],\n",
    "              [7, 8, 9]])\n",
    "b = np.hsplit(a, 3) # horizontal\n",
    "b_1, b_2, b_3 = b\n",
    "print(b_1)\n",
    "print(b_2)\n",
    "print(b_3)\n",
    "b2 = np.split(a, 3, axis=1) # dimension 1\n",
    "print(b2)"
   ]
  },
  {
   "cell_type": "markdown",
   "metadata": {},
   "source": [
    "## indexing & slicing"
   ]
  },
  {
   "cell_type": "code",
   "execution_count": 37,
   "metadata": {},
   "outputs": [
    {
     "name": "stdout",
     "output_type": "stream",
     "text": [
      "1\n",
      "[2 3 4]\n",
      "2\n",
      "[2 5]\n"
     ]
    }
   ],
   "source": [
    "a = np.array([1, 2, 3, 4, 5])\n",
    "\n",
    "# 访问单个元素\n",
    "print(a[0])\n",
    "\n",
    "# 切片\n",
    "print(a[1:4])\n",
    "\n",
    "# 多维数组索引\n",
    "b = np.array([[1, 2, 3], \n",
    "              [4, 5, 6]])\n",
    "print(b[0, 1])\n",
    "print(b[:, 1])"
   ]
  },
  {
   "cell_type": "markdown",
   "metadata": {},
   "source": [
    "## math"
   ]
  },
  {
   "cell_type": "code",
   "execution_count": 38,
   "metadata": {},
   "outputs": [
    {
     "name": "stdout",
     "output_type": "stream",
     "text": [
      "[5 7 9]\n",
      "[ 4 10 18]\n",
      "[[19 22]\n",
      " [43 50]]\n",
      "[[19 22]\n",
      " [43 50]]\n",
      "[[19 22]\n",
      " [43 50]]\n"
     ]
    }
   ],
   "source": [
    "a = np.array([1, 2, 3])\n",
    "b = np.array([4, 5, 6])\n",
    "\n",
    "# 数组加法\n",
    "print(a + b)\n",
    "\n",
    "# 数组乘法\n",
    "print(a * b)\n",
    "\n",
    "# 矩阵乘法\n",
    "c = np.array([[1, 2], [3, 4]])\n",
    "d = np.array([[5, 6], [7, 8]])\n",
    "print(np.dot(c, d))\n",
    "print(c.dot(d))\n",
    "print(c @ d)"
   ]
  },
  {
   "cell_type": "code",
   "execution_count": 40,
   "metadata": {},
   "outputs": [
    {
     "name": "stdout",
     "output_type": "stream",
     "text": [
      "15\n",
      "3.0\n",
      "2.0\n",
      "2.0\n",
      "1.4142135623730951\n",
      "5\n",
      "1\n"
     ]
    }
   ],
   "source": [
    "a = np.array([1, 2, 3, 4, 5])\n",
    "\n",
    "# 求和\n",
    "print(np.sum(a))\n",
    "\n",
    "# 均值\n",
    "print(np.mean(a))\n",
    "\n",
    "# \\sum_{i=1}^{n} (x_i - \\mu)^2 / n\n",
    "# = \\sum_{i=1}^{n} (x_i^2 - 2 * \\mu * x_i + \\mu^2) / n\n",
    "# = \\sum_{i=1}^{n} x_i^2 / n - 2 * \\mu * \\mu + \\mu^2\n",
    "print(np.sum(a ** 2) / a.size - np.mean(a) * np.mean(a))\n",
    "print(np.var(a))\n",
    "print(np.std(a))\n",
    "\n",
    "# 最大值和最小值\n",
    "print(np.max(a))\n",
    "print(np.min(a))"
   ]
  },
  {
   "cell_type": "markdown",
   "metadata": {},
   "source": []
  },
  {
   "cell_type": "code",
   "execution_count": 22,
   "metadata": {},
   "outputs": [
    {
     "name": "stdout",
     "output_type": "stream",
     "text": [
      "[[1 3]] (1, 2)\n",
      "[[1]\n",
      " [3]] (2, 1)\n",
      "[[10]] (1, 1)\n",
      "[[1 3]\n",
      " [3 9]] (2, 2)\n",
      "[[1 3]\n",
      " [3 9]] (2, 2)\n",
      "[[1 3]\n",
      " [3 9]] (2, 2)\n"
     ]
    }
   ],
   "source": [
    "a2 = np.array([[1, 3]])\n",
    "print(a2, a2.shape)\n",
    "print(a2.T, a2.T.shape)\n",
    "a22 = a2 @ a2.T\n",
    "print(a22, a22.shape)\n",
    "a22_r = a2.T @ a2\n",
    "print(a22_r, a22_r.shape)\n",
    "a22_d = a2 * a2.T\n",
    "print(a22_d, a22_d.shape)\n",
    "a22_d = a2.T * a2\n",
    "print(a22_d, a22_d.shape)\n",
    "# a22_s = a2 * a2\n",
    "# print(a22_s, a22_s.shape)\n",
    "# a22_m = a2.T * a2.T\n",
    "# print(a22_m, a22_m.shape)"
   ]
  },
  {
   "cell_type": "markdown",
   "metadata": {},
   "source": []
  },
  {
   "cell_type": "code",
   "execution_count": 2,
   "metadata": {},
   "outputs": [
    {
     "data": {
      "text/plain": [
       "array([[1, 2, 2],\n",
       "       [3, 4, 4]])"
      ]
     },
     "execution_count": 2,
     "metadata": {},
     "output_type": "execute_result"
    }
   ],
   "source": [
    "import numpy as np\n",
    "\n",
    "x = np.array([[1,2],\n",
    "              [3,4]])\n",
    "np.repeat(x, [1,2], axis=1)"
   ]
  },
  {
   "cell_type": "code",
   "execution_count": 3,
   "metadata": {},
   "outputs": [
    {
     "data": {
      "text/plain": [
       "array([[0., 0., 0.],\n",
       "       [0., 0., 0.]])"
      ]
     },
     "execution_count": 3,
     "metadata": {},
     "output_type": "execute_result"
    }
   ],
   "source": [
    "np.zeros((2, 3))"
   ]
  },
  {
   "cell_type": "code",
   "execution_count": null,
   "metadata": {},
   "outputs": [],
   "source": [
    "if 2 in [1, 2, 3]:\n",
    "    print('yes')\n",
    "elif 2 in [4, 5, 6]:\n",
    "    print('no')"
   ]
  },
  {
   "cell_type": "markdown",
   "metadata": {},
   "source": [
    "在数据分析中，常用的包中能够让你使用数学函数高效处理庞大的多维数组和矩阵的是 `NumPy`。`NumPy` 是 Python 语言的一个基础科学计算库，提供了支持高效操作大型多维数组和矩阵的功能，以及大量的数学函数库。\n",
    "\n",
    "以下是一些 `NumPy` 的基本用法示例：\n",
    "\n",
    "### 安装 NumPy\n",
    "\n",
    "首先，使用 pip 安装 `NumPy`：\n",
    "\n",
    "```sh\n",
    "pip install numpy\n",
    "```\n",
    "\n",
    "### 基本用法示例\n",
    "\n",
    "```python\n",
    "import numpy as np\n",
    "\n",
    "# 创建一个一维数组\n",
    "array_1d = np.array([1, 2, 3, 4, 5])\n",
    "print(\"一维数组:\", array_1d)\n",
    "\n",
    "# 创建一个二维数组（矩阵）\n",
    "array_2d = np.array([[1, 2, 3], [4, 5, 6]])\n",
    "print(\"二维数组:\\n\", array_2d)\n",
    "\n",
    "# 创建一个全零数组\n",
    "zeros_array = np.zeros((3, 3))\n",
    "print(\"全零数组:\\n\", zeros_array)\n",
    "\n",
    "# 创建一个全一数组\n",
    "ones_array = np.ones((2, 4))\n",
    "print(\"全一数组:\\n\", ones_array)\n",
    "\n",
    "# 创建一个单位矩阵\n",
    "identity_matrix = np.eye(3)\n",
    "print(\"单位矩阵:\\n\", identity_matrix)\n",
    "\n",
    "# 数组的基本运算\n",
    "array_sum = array_1d + 10\n",
    "print(\"数组加法:\", array_sum)\n",
    "\n",
    "array_product = array_1d * 2\n",
    "print(\"数组乘法:\", array_product)\n",
    "\n",
    "# 矩阵乘法\n",
    "matrix_product = np.dot(array_2d, array_2d.T)\n",
    "print(\"矩阵乘法:\\n\", matrix_product)\n",
    "\n",
    "# 计算数组的均值、标准差等统计量\n",
    "mean_value = np.mean(array_1d)\n",
    "std_value = np.std(array_1d)\n",
    "print(\"均值:\", mean_value)\n",
    "print(\"标准差:\", std_value)\n",
    "```\n",
    "\n",
    "### NumPy 的优势\n",
    "\n",
    "- **高效的多维数组对象**：`ndarray` 是一个强大的 N 维数组对象，支持快速的元素级操作。\n",
    "- **丰富的数学函数库**：`NumPy` 提供了大量的数学函数，用于数组的快速运算。\n",
    "- **广播机制**：`NumPy` 的广播机制允许不同形状的数组进行算术运算。\n",
    "- **集成性强**：`NumPy` 与其他科学计算库（如 `SciPy`、`Pandas`、`Matplotlib` 等）无缝集成。\n",
    "\n",
    "通过使用 `NumPy`，你可以高效地处理和分析庞大的多维数组和矩阵，极大地提高数据分析的效率和性能。"
   ]
  },
  {
   "cell_type": "code",
   "execution_count": 1,
   "metadata": {},
   "outputs": [
    {
     "name": "stdout",
     "output_type": "stream",
     "text": [
      "一维数组: [1 2 3 4 5]\n"
     ]
    }
   ],
   "source": [
    "import numpy as np\n",
    "\n",
    "# 创建一个一维数组\n",
    "array_1d = np.array([1, 2, 3, 4, 5])\n",
    "print(\"一维数组:\", array_1d)"
   ]
  }
 ],
 "metadata": {
  "kernelspec": {
   "display_name": "ai_310",
   "language": "python",
   "name": "python3"
  },
  "language_info": {
   "codemirror_mode": {
    "name": "ipython",
    "version": 3
   },
   "file_extension": ".py",
   "mimetype": "text/x-python",
   "name": "python",
   "nbconvert_exporter": "python",
   "pygments_lexer": "ipython3",
   "version": "undefined.undefined.undefined"
  }
 },
 "nbformat": 4,
 "nbformat_minor": 2
}
