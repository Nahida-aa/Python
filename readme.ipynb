{
 "cells": [
  {
   "cell_type": "markdown",
   "metadata": {},
   "source": [
    "# python learning\n",
    "\n",
    "python语言的基本特性、编程环境的搭建、语法基础、算法基础等，\n",
    "了解python的基础数据结构，对python的网络编程和web开发技术具备初步的知识，了解常用开发框架的基本特性，以及python爬虫的基础知识。"
   ]
  },
  {
   "cell_type": "markdown",
   "metadata": {},
   "source": [
    "## Python 基本特性\n",
    "设计哲学：简洁明了，优雅，可读性强\n",
    "特点:\n",
    "优势:"
   ]
  },
  {
   "cell_type": "markdown",
   "metadata": {},
   "source": [
    "## Coding environment 搭建"
   ]
  },
  {
   "cell_type": "markdown",
   "metadata": {},
   "source": [
    "## syntax\n",
    "\n",
    "### [variable](memory/variable.ipynb)"
   ]
  },
  {
   "cell_type": "markdown",
   "metadata": {},
   "source": [
    "### data type\n",
    "\n",
    "### operator\n",
    "\n",
    "### control flow\n",
    "\n",
    "### function\n",
    "\n",
    "### module\n",
    "\n",
    "### class\n",
    "\n",
    "### exception"
   ]
  },
  {
   "cell_type": "markdown",
   "metadata": {},
   "source": [
    "## Algorithm\n",
    "\n",
    "### data structure"
   ]
  },
  {
   "cell_type": "markdown",
   "metadata": {},
   "source": [
    "### sort\n",
    "\n",
    "### search\n",
    "\n",
    "### dynamic programming\n",
    "\n",
    "### graph\n",
    "\n",
    "### string\n",
    "\n",
    "### tree\n",
    "\n",
    "### math\n",
    "\n",
    "### bit manipulation\n",
    "\n",
    "### backtracking\n",
    "\n",
    "### greedy\n",
    "\n",
    "### divide and conquer\n",
    "\n",
    "### recursion\n",
    "\n",
    "### bfs\n",
    "\n",
    "### dfs\n",
    "\n",
    "### binary search\n",
    "\n",
    "### two pointers\n",
    "\n",
    "### sliding window\n",
    "\n",
    "### linked list\n",
    "\n",
    "### stack\n",
    "\n",
    "### queue\n",
    "\n",
    "### heap\n",
    "\n",
    "### hash table\n",
    "\n",
    "### trie\n",
    "\n",
    "### union find"
   ]
  },
  {
   "cell_type": "markdown",
   "metadata": {},
   "source": [
    "## python basic data structure\n",
    "\n",
    "### list\n",
    "\n",
    "### tuple\n",
    "\n",
    "### set\n",
    "\n",
    "### dictionary"
   ]
  },
  {
   "cell_type": "markdown",
   "metadata": {},
   "source": [
    "## network and web\n",
    "\n",
    "### socket\n",
    "\n",
    "### http"
   ]
  },
  {
   "cell_type": "markdown",
   "metadata": {},
   "source": [
    "## Flask"
   ]
  },
  {
   "cell_type": "markdown",
   "metadata": {},
   "source": [
    "## Django"
   ]
  },
  {
   "cell_type": "markdown",
   "metadata": {},
   "source": [
    "## requests"
   ]
  },
  {
   "cell_type": "markdown",
   "metadata": {},
   "source": [
    "## BeautifulSoup"
   ]
  },
  {
   "cell_type": "markdown",
   "metadata": {},
   "source": [
    "## numpy"
   ]
  },
  {
   "cell_type": "markdown",
   "metadata": {},
   "source": []
  },
  {
   "cell_type": "code",
   "execution_count": null,
   "metadata": {},
   "outputs": [],
   "source": []
  }
 ],
 "metadata": {
  "kernelspec": {
   "display_name": "ai_310",
   "language": "python",
   "name": "python3"
  },
  "language_info": {
   "codemirror_mode": {
    "name": "ipython",
    "version": 3
   },
   "file_extension": ".py",
   "mimetype": "text/x-python",
   "name": "python",
   "nbconvert_exporter": "python",
   "pygments_lexer": "ipython3",
   "version": "undefined.undefined.undefined"
  }
 },
 "nbformat": 4,
 "nbformat_minor": 2
}
